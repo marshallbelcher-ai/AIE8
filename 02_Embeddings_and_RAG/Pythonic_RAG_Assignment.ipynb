{
  "cells": [
    {
      "cell_type": "markdown",
      "metadata": {
        "id": "lElF3o5PR6ys"
      },
      "source": [
        "# Your First RAG Application\n",
        "\n",
        "In this notebook, we'll walk you through each of the components that are involved in a simple RAG application.\n",
        "\n",
        "We won't be leveraging any fancy tools, just the OpenAI Python SDK, Numpy, and some classic Python.\n",
        "\n",
        "> NOTE: This was done with Python 3.12.3.\n",
        "\n",
        "> NOTE: There might be [compatibility issues](https://github.com/wandb/wandb/issues/7683) if you're on NVIDIA driver >552.44 As an interim solution - you can rollback your drivers to the 552.44."
      ]
    },
    {
      "cell_type": "markdown",
      "metadata": {
        "id": "5CtcL8P8R6yt"
      },
      "source": [
        "## Table of Contents:\n",
        "\n",
        "- Task 1: Imports and Utilities\n",
        "- Task 2: Documents\n",
        "- Task 3: Embeddings and Vectors\n",
        "- Task 4: Prompts\n",
        "- Task 5: Retrieval Augmented Generation\n",
        "  - 🚧 Activity #1: Augment RAG"
      ]
    },
    {
      "cell_type": "markdown",
      "metadata": {
        "id": "1Dz6GYilR6yt"
      },
      "source": [
        "Let's look at a rather complicated looking visual representation of a basic RAG application.\n",
        "\n",
        "<img src=\"https://i.imgur.com/vD8b016.png\" />"
      ]
    },
    {
      "cell_type": "markdown",
      "metadata": {
        "id": "PjmC0KFtR6yt"
      },
      "source": [
        "## Task 1: Imports and Utility\n",
        "\n",
        "We're just doing some imports and enabling `async` to work within the Jupyter environment here, nothing too crazy!"
      ]
    },
    {
      "cell_type": "code",
      "execution_count": 23,
      "metadata": {
        "id": "Z1dyrG4hR6yt"
      },
      "outputs": [],
      "source": [
        "from aimakerspace.text_utils import TextFileLoader, CharacterTextSplitter\n",
        "from aimakerspace.vectordatabase import VectorDatabase\n",
        "import asyncio"
      ]
    },
    {
      "cell_type": "code",
      "execution_count": 24,
      "metadata": {
        "id": "9OrFZRnER6yt"
      },
      "outputs": [],
      "source": [
        "import nest_asyncio\n",
        "nest_asyncio.apply()"
      ]
    },
    {
      "cell_type": "markdown",
      "metadata": {
        "id": "M0jGnpQsR6yu"
      },
      "source": [
        "## Task 2: Documents\n",
        "\n",
        "We'll be concerning ourselves with this part of the flow in the following section:\n",
        "\n",
        "<img src=\"https://i.imgur.com/jTm9gjk.png\" />"
      ]
    },
    {
      "cell_type": "markdown",
      "metadata": {
        "id": "-SFPWvRUR6yu"
      },
      "source": [
        "### Loading Source Documents\n",
        "\n",
        "So, first things first, we need some documents to work with.\n",
        "\n",
        "While we could work directly with the `.txt` files (or whatever file-types you wanted to extend this to) we can instead do some batch processing of those documents at the beginning in order to store them in a more machine compatible format.\n",
        "\n",
        "In this case, we're going to parse our text file into a single document in memory.\n",
        "\n",
        "Let's look at the relevant bits of the `TextFileLoader` class:\n",
        "\n",
        "```python\n",
        "def load_file(self):\n",
        "        with open(self.path, \"r\", encoding=self.encoding) as f:\n",
        "            self.documents.append(f.read())\n",
        "```\n",
        "\n",
        "We're simply loading the document using the built in `open` method, and storing that output in our `self.documents` list.\n",
        "\n",
        "> NOTE: We're using blogs from PMarca (Marc Andreessen) as our sample data. This data is largely irrelevant as we want to focus on the mechanisms of RAG, which includes out data's shape and quality - but not specifically what the contents of the data are. \n"
      ]
    },
    {
      "cell_type": "code",
      "execution_count": 25,
      "metadata": {
        "colab": {
          "base_uri": "https://localhost:8080/"
        },
        "id": "Ia2sUEuGR6yu",
        "outputId": "84937ecc-c35f-4c4a-a4ab-9da72625954c"
      },
      "outputs": [
        {
          "data": {
            "text/plain": [
              "1"
            ]
          },
          "execution_count": 25,
          "metadata": {},
          "output_type": "execute_result"
        }
      ],
      "source": [
        "text_loader = TextFileLoader(\"data/PMarcaBlogs.txt\")\n",
        "documents = text_loader.load_documents()\n",
        "len(documents)"
      ]
    },
    {
      "cell_type": "code",
      "execution_count": 26,
      "metadata": {
        "colab": {
          "base_uri": "https://localhost:8080/"
        },
        "id": "bV-tj5WFR6yu",
        "outputId": "674eb315-1ff3-4597-bcf5-38ece0a812ac"
      },
      "outputs": [
        {
          "name": "stdout",
          "output_type": "stream",
          "text": [
            "\n",
            "The Pmarca Blog Archives\n",
            "(select posts from 2007-2009)\n",
            "Marc Andreessen\n",
            "copyright: Andreessen Horow\n"
          ]
        }
      ],
      "source": [
        "print(documents[0][:100])"
      ]
    },
    {
      "cell_type": "markdown",
      "metadata": {
        "id": "nHlTvCzYR6yu"
      },
      "source": [
        "### Splitting Text Into Chunks\n",
        "\n",
        "As we can see, there is one massive document.\n",
        "\n",
        "We'll want to chunk the document into smaller parts so it's easier to pass the most relevant snippets to the LLM.\n",
        "\n",
        "There is no fixed way to split/chunk documents - and you'll need to rely on some intuition as well as knowing your data *very* well in order to build the most robust system.\n",
        "\n",
        "For this toy example, we'll just split blindly on length.\n",
        "\n",
        ">There's an opportunity to clear up some terminology here, for this course we will be stick to the following:\n",
        ">\n",
        ">- \"source documents\" : The `.txt`, `.pdf`, `.html`, ..., files that make up the files and information we start with in its raw format\n",
        ">- \"document(s)\" : single (or more) text object(s)\n",
        ">- \"corpus\" : the combination of all of our documents"
      ]
    },
    {
      "cell_type": "markdown",
      "metadata": {
        "id": "2G6Voc0jR6yv"
      },
      "source": [
        "As you can imagine (though it's not specifically true in this toy example) the idea of splitting documents is to break them into managable sized chunks that retain the most relevant local context."
      ]
    },
    {
      "cell_type": "code",
      "execution_count": 27,
      "metadata": {
        "colab": {
          "base_uri": "https://localhost:8080/"
        },
        "id": "UMC4tsEmR6yv",
        "outputId": "08689c0b-57cd-4040-942a-8193e997f5cb"
      },
      "outputs": [
        {
          "data": {
            "text/plain": [
              "373"
            ]
          },
          "execution_count": 27,
          "metadata": {},
          "output_type": "execute_result"
        }
      ],
      "source": [
        "text_splitter = CharacterTextSplitter()\n",
        "split_documents = text_splitter.split_texts(documents)\n",
        "len(split_documents)"
      ]
    },
    {
      "cell_type": "markdown",
      "metadata": {
        "id": "W2wKT0WLR6yv"
      },
      "source": [
        "Let's take a look at some of the documents we've managed to split."
      ]
    },
    {
      "cell_type": "code",
      "execution_count": 28,
      "metadata": {
        "colab": {
          "base_uri": "https://localhost:8080/"
        },
        "id": "vcYMwWJoR6yv",
        "outputId": "20d69876-feca-4826-b4be-32915276987a"
      },
      "outputs": [
        {
          "data": {
            "text/plain": [
              "['\\ufeff\\nThe Pmarca Blog Archives\\n(select posts from 2007-2009)\\nMarc Andreessen\\ncopyright: Andreessen Horowitz\\ncover design: Jessica Hagy\\nproduced using: Pressbooks\\nContents\\nTHE PMARCA GUIDE TO STARTUPS\\nPart 1: Why not to do a startup 2\\nPart 2: When the VCs say \"no\" 10\\nPart 3: \"But I don\\'t know any VCs!\" 18\\nPart 4: The only thing that matters 25\\nPart 5: The Moby Dick theory of big companies 33\\nPart 6: How much funding is too little? Too much? 41\\nPart 7: Why a startup\\'s initial business plan doesn\\'t\\nmatter that much\\n49\\nTHE PMARCA GUIDE TO HIRING\\nPart 8: Hiring, managing, promoting, and Dring\\nexecutives\\n54\\nPart 9: How to hire a professional CEO 68\\nHow to hire the best people you\\'ve ever worked\\nwith\\n69\\nTHE PMARCA GUIDE TO BIG COMPANIES\\nPart 1: Turnaround! 82\\nPart 2: Retaining great people 86\\nTHE PMARCA GUIDE TO CAREER, PRODUCTIVITY,\\nAND SOME OTHER THINGS\\nIntroduction 97\\nPart 1: Opportunity 99\\nPart 2: Skills and education 107\\nPart 3: Where to go and why 120\\nThe Pmarca Guide to Personal Productivi']"
            ]
          },
          "execution_count": 28,
          "metadata": {},
          "output_type": "execute_result"
        }
      ],
      "source": [
        "split_documents[0:1]"
      ]
    },
    {
      "cell_type": "markdown",
      "metadata": {
        "id": "HOU-RFP_R6yv"
      },
      "source": [
        "## Task 3: Embeddings and Vectors\n",
        "\n",
        "Next, we have to convert our corpus into a \"machine readable\" format as we explored in the Embedding Primer notebook.\n",
        "\n",
        "Today, we're going to talk about the actual process of creating, and then storing, these embeddings, and how we can leverage that to intelligently add context to our queries."
      ]
    },
    {
      "cell_type": "markdown",
      "metadata": {},
      "source": [
        "### OpenAI API Key\n",
        "\n",
        "In order to access OpenAI's APIs, we'll need to provide our OpenAI API Key!\n",
        "\n",
        "You can work through the folder \"OpenAI API Key Setup\" for more information on this process if you don't already have an API Key!"
      ]
    },
    {
      "cell_type": "code",
      "execution_count": 29,
      "metadata": {},
      "outputs": [],
      "source": [
        "import os\n",
        "import openai\n",
        "from getpass import getpass\n",
        "\n",
        "openai.api_key = getpass(\"OpenAI API Key: \")\n",
        "os.environ[\"OPENAI_API_KEY\"] = openai.api_key"
      ]
    },
    {
      "cell_type": "markdown",
      "metadata": {},
      "source": [
        "### Vector Database\n",
        "\n",
        "Let's set up our vector database to hold all our documents and their embeddings!"
      ]
    },
    {
      "cell_type": "markdown",
      "metadata": {
        "id": "kDQrfAR1R6yv"
      },
      "source": [
        "While this is all baked into 1 call - we can look at some of the code that powers this process to get a better understanding:\n",
        "\n",
        "Let's look at our `VectorDatabase().__init__()`:\n",
        "\n",
        "```python\n",
        "def __init__(self, embedding_model: EmbeddingModel = None):\n",
        "        self.vectors = defaultdict(np.array)\n",
        "        self.embedding_model = embedding_model or EmbeddingModel()\n",
        "```\n",
        "\n",
        "As you can see - our vectors are merely stored as a dictionary of `np.array` objects.\n",
        "\n",
        "Secondly, our `VectorDatabase()` has a default `EmbeddingModel()` which is a wrapper for OpenAI's `text-embedding-3-small` model.\n",
        "\n",
        "> **Quick Info About `text-embedding-3-small`**:\n",
        "> - It has a context window of **8191** tokens\n",
        "> - It returns vectors with dimension **1536**"
      ]
    },
    {
      "cell_type": "markdown",
      "metadata": {
        "id": "L273pRdeR6yv"
      },
      "source": [
        "#### ❓Question #1:\n",
        "\n",
        "The default embedding dimension of `text-embedding-3-small` is 1536, as noted above. \n",
        "\n",
        "1. Is there any way to modify this dimension?\n",
        "2. What technique does OpenAI use to achieve this?\n",
        "\n",
        "> NOTE: Check out this [API documentation](https://platform.openai.com/docs/api-reference/embeddings/create) for the answer to question #1.1, and [this documentation](https://platform.openai.com/docs/guides/embeddings/use-cases) for an answer to question #1.2!\n"
      ]
    },
    {
      "cell_type": "markdown",
      "metadata": {},
      "source": [
        "##### ✅ Answer:\n",
        "1. Yes, via the API request body parameter \"dimensions <integer>\"\n",
        "2. OpenAI achieves this by leveraging Matryoshka Representation Learning (MRL) which \"encodes information at different granularities and allows a single embedding to adapt to the computational constraints of downstream tasks\". (https://arxiv.org/abs/2205.13147)"
      ]
    },
    {
      "cell_type": "markdown",
      "metadata": {
        "id": "w5FZY7K3R6yv"
      },
      "source": [
        "We can call the `async_get_embeddings` method of our `EmbeddingModel()` on a list of `str` and receive a list of `float` back!\n",
        "\n",
        "```python\n",
        "async def async_get_embeddings(self, list_of_text: List[str]) -> List[List[float]]:\n",
        "        return await aget_embeddings(\n",
        "            list_of_text=list_of_text, engine=self.embeddings_model_name\n",
        "        )\n",
        "```"
      ]
    },
    {
      "cell_type": "markdown",
      "metadata": {
        "id": "cSct6X0aR6yv"
      },
      "source": [
        "We cast those to `np.array` when we build our `VectorDatabase()`:\n",
        "\n",
        "```python\n",
        "async def abuild_from_list(self, list_of_text: List[str]) -> \"VectorDatabase\":\n",
        "        embeddings = await self.embedding_model.async_get_embeddings(list_of_text)\n",
        "        for text, embedding in zip(list_of_text, embeddings):\n",
        "            self.insert(text, np.array(embedding))\n",
        "        return self\n",
        "```\n",
        "\n",
        "And that's all we need to do!"
      ]
    },
    {
      "cell_type": "code",
      "execution_count": 30,
      "metadata": {
        "id": "O4KoLbVDR6yv"
      },
      "outputs": [],
      "source": [
        "vector_db = VectorDatabase()\n",
        "vector_db = asyncio.run(vector_db.abuild_from_list(split_documents))"
      ]
    },
    {
      "cell_type": "markdown",
      "metadata": {
        "id": "SSZwaGvpR6yv"
      },
      "source": [
        "#### ❓Question #2:\n",
        "\n",
        "What are the benefits of using an `async` approach to collecting our embeddings?\n",
        "\n",
        "> NOTE: Determining the core difference between `async` and `sync` will be useful! If you get stuck - ask ChatGPT!"
      ]
    },
    {
      "cell_type": "markdown",
      "metadata": {},
      "source": [
        "##### ✅ Answer: The benefits are performance, resource utilization and scale. Since a corpus of documents would require multiple API calls and db i/o streams, it makes sense to execute them in parallel for perfromance.\n"
      ]
    },
    {
      "cell_type": "markdown",
      "metadata": {
        "id": "nRBdIt-xR6yw"
      },
      "source": [
        "So, to review what we've done so far in natural language:\n",
        "\n",
        "1. We load source documents\n",
        "2. We split those source documents into smaller chunks (documents)\n",
        "3. We send each of those documents to the `text-embedding-3-small` OpenAI API endpoint\n",
        "4. We store each of the text representations with the vector representations as keys/values in a dictionary"
      ]
    },
    {
      "cell_type": "markdown",
      "metadata": {
        "id": "4-vWANZyR6yw"
      },
      "source": [
        "### Semantic Similarity\n",
        "\n",
        "The next step is to be able to query our `VectorDatabase()` with a `str` and have it return to us vectors and text that is most relevant from our corpus.\n",
        "\n",
        "We're going to use the following process to achieve this in our toy example:\n",
        "\n",
        "1. We need to embed our query with the same `EmbeddingModel()` as we used to construct our `VectorDatabase()`\n",
        "2. We loop through every vector in our `VectorDatabase()` and use a distance measure to compare how related they are\n",
        "3. We return a list of the top `k` closest vectors, with their text representations\n",
        "\n",
        "There's some very heavy optimization that can be done at each of these steps - but let's just focus on the basic pattern in this notebook.\n",
        "\n",
        "> We are using [cosine similarity](https://www.engati.com/glossary/cosine-similarity) as a distance metric in this example - but there are many many distance metrics you could use - like [these](https://flavien-vidal.medium.com/similarity-distances-for-natural-language-processing-16f63cd5ba55)\n",
        "\n",
        "> We are using a rather inefficient way of calculating relative distance between the query vector and all other vectors - there are more advanced approaches that are much more efficient, like [ANN](https://towardsdatascience.com/comprehensive-guide-to-approximate-nearest-neighbors-algorithms-8b94f057d6b6)"
      ]
    },
    {
      "cell_type": "code",
      "execution_count": 31,
      "metadata": {
        "colab": {
          "base_uri": "https://localhost:8080/"
        },
        "id": "76d96uavR6yw",
        "outputId": "bbfccc31-20a2-41c7-c14d-46554a43ed2d"
      },
      "outputs": [
        {
          "data": {
            "text/plain": [
              "[('ordingly.\\nSeventh, when hiring the executive to run your former specialty, be\\ncareful you don’t hire someone weak on purpose.\\nThis sounds silly, but you wouldn’t believe how oaen it happens.\\nThe CEO who used to be a product manager who has a weak\\nproduct management executive. The CEO who used to be in\\nsales who has a weak sales executive. The CEO who used to be\\nin marketing who has a weak marketing executive.\\nI call this the “Michael Eisner Memorial Weak Executive Problem” — aaer the CEO of Disney who had previously been a brilliant TV network executive. When he bought ABC at Disney, it\\npromptly fell to fourth place. His response? “If I had an extra\\ntwo days a week, I could turn around ABC myself.” Well, guess\\nwhat, he didn’t have an extra two days a week.\\nA CEO — or a startup founder — oaen has a hard time letting\\ngo of the function that brought him to the party. The result: you\\nhire someone weak into the executive role for that function so\\nthat you can continue to be “the man” — cons',\n",
              "  np.float64(0.6538563767462546)),\n",
              " ('m. They have areas where they are truly deXcient in judgment or skill set. That’s just life. Almost nobody is brilliant\\nat everything. When hiring and when Hring executives, you\\nmust therefore focus on strength rather than lack of weakness. Everybody has severe weaknesses even if you can’t see\\nthem yet. When managing, it’s oaen useful to micromanage and\\nto provide remedial training around these weaknesses. Doing so\\nmay make the diWerence between an executive succeeding or\\nfailing.\\nFor example, you might have a brilliant engineering executive\\nwho generates excellent team loyalty, has terriXc product judgment and makes the trains run on time. This same executive\\nmay be very poor at relating to the other functions in the company. She may generate far more than her share of cross-functional conYicts, cut herself oW from critical information, and\\nsigniXcantly impede your ability to sell and market eWectively.\\nYour alternatives are:\\n(a) Macro-manage and give her an annual or quarterly object',\n",
              "  np.float64(0.5036012174947995)),\n",
              " ('ed?\\nIn reality — as opposed to Marc’s warped view of reality — it will\\nbe extremely helpful for Marc [if he were actually the CEO,\\nwhich he is not] to meet with the new head of engineering daily\\nwhen she comes on board and review all of her thinking and\\ndecisions. This level of micromanagement will accelerate her\\ntraining and improve her long-term eWectiveness. It will make\\nher seem smarter to the rest of the organization which will build\\ncredibility and conXdence while she comes up to speed. Micromanaging new executives is generally a good idea for a limited\\nperiod of time.\\nHowever, that is not the only time that it makes sense to micro66 The Pmarca Blog Archives\\nmanage executives. It turns out that just about every executive\\nin the world has a few things that are seriously wrong with\\nthem. They have areas where they are truly deXcient in judgment or skill set. That’s just life. Almost nobody is brilliant\\nat everything. When hiring and when Hring executives, you\\nmust therefore focus o',\n",
              "  np.float64(0.4814102594977529))]"
            ]
          },
          "execution_count": 31,
          "metadata": {},
          "output_type": "execute_result"
        }
      ],
      "source": [
        "vector_db.search_by_text(\"What is the Michael Eisner Memorial Weak Executive Problem?\", k=3)"
      ]
    },
    {
      "cell_type": "markdown",
      "metadata": {
        "id": "TehsfIiKR6yw"
      },
      "source": [
        "## Task 4: Prompts\n",
        "\n",
        "In the following section, we'll be looking at the role of prompts - and how they help us to guide our application in the right direction.\n",
        "\n",
        "In this notebook, we're going to rely on the idea of \"zero-shot in-context learning\".\n",
        "\n",
        "This is a lot of words to say: \"We will ask it to perform our desired task in the prompt, and provide no examples.\""
      ]
    },
    {
      "cell_type": "markdown",
      "metadata": {
        "id": "yXpA0UveR6yw"
      },
      "source": [
        "### XYZRolePrompt\n",
        "\n",
        "Before we do that, let's stop and think a bit about how OpenAI's chat models work.\n",
        "\n",
        "We know they have roles - as is indicated in the following API [documentation](https://platform.openai.com/docs/api-reference/chat/create#chat/create-messages)\n",
        "\n",
        "There are three roles, and they function as follows (taken directly from [OpenAI](https://platform.openai.com/docs/guides/gpt/chat-completions-api)):\n",
        "\n",
        "- `{\"role\" : \"system\"}` : The system message helps set the behavior of the assistant. For example, you can modify the personality of the assistant or provide specific instructions about how it should behave throughout the conversation. However note that the system message is optional and the model’s behavior without a system message is likely to be similar to using a generic message such as \"You are a helpful assistant.\"\n",
        "- `{\"role\" : \"user\"}` : The user messages provide requests or comments for the assistant to respond to.\n",
        "- `{\"role\" : \"assistant\"}` : Assistant messages store previous assistant responses, but can also be written by you to give examples of desired behavior.\n",
        "\n",
        "The main idea is this:\n",
        "\n",
        "1. You start with a system message that outlines how the LLM should respond, what kind of behaviours you can expect from it, and more\n",
        "2. Then, you can provide a few examples in the form of \"assistant\"/\"user\" pairs\n",
        "3. Then, you prompt the model with the true \"user\" message.\n",
        "\n",
        "In this example, we'll be forgoing the 2nd step for simplicities sake."
      ]
    },
    {
      "cell_type": "markdown",
      "metadata": {
        "id": "gdZ2KWKSR6yw"
      },
      "source": [
        "#### Utility Functions\n",
        "\n",
        "You'll notice that we're using some utility functions from the `aimakerspace` module - let's take a peek at these and see what they're doing!"
      ]
    },
    {
      "cell_type": "markdown",
      "metadata": {
        "id": "GFbeJDDsR6yw"
      },
      "source": [
        "##### XYZRolePrompt"
      ]
    },
    {
      "cell_type": "markdown",
      "metadata": {
        "id": "5mojJSE3R6yw"
      },
      "source": [
        "Here we have our `system`, `user`, and `assistant` role prompts.\n",
        "\n",
        "Let's take a peek at what they look like:\n",
        "\n",
        "```python\n",
        "class BasePrompt:\n",
        "    def __init__(self, prompt):\n",
        "        \"\"\"\n",
        "        Initializes the BasePrompt object with a prompt template.\n",
        "\n",
        "        :param prompt: A string that can contain placeholders within curly braces\n",
        "        \"\"\"\n",
        "        self.prompt = prompt\n",
        "        self._pattern = re.compile(r\"\\{([^}]+)\\}\")\n",
        "\n",
        "    def format_prompt(self, **kwargs):\n",
        "        \"\"\"\n",
        "        Formats the prompt string using the keyword arguments provided.\n",
        "\n",
        "        :param kwargs: The values to substitute into the prompt string\n",
        "        :return: The formatted prompt string\n",
        "        \"\"\"\n",
        "        matches = self._pattern.findall(self.prompt)\n",
        "        return self.prompt.format(**{match: kwargs.get(match, \"\") for match in matches})\n",
        "\n",
        "    def get_input_variables(self):\n",
        "        \"\"\"\n",
        "        Gets the list of input variable names from the prompt string.\n",
        "\n",
        "        :return: List of input variable names\n",
        "        \"\"\"\n",
        "        return self._pattern.findall(self.prompt)\n",
        "```\n",
        "\n",
        "Then we have our `RolePrompt` which laser focuses us on the role pattern found in most API endpoints for LLMs.\n",
        "\n",
        "```python\n",
        "class RolePrompt(BasePrompt):\n",
        "    def __init__(self, prompt, role: str):\n",
        "        \"\"\"\n",
        "        Initializes the RolePrompt object with a prompt template and a role.\n",
        "\n",
        "        :param prompt: A string that can contain placeholders within curly braces\n",
        "        :param role: The role for the message ('system', 'user', or 'assistant')\n",
        "        \"\"\"\n",
        "        super().__init__(prompt)\n",
        "        self.role = role\n",
        "\n",
        "    def create_message(self, **kwargs):\n",
        "        \"\"\"\n",
        "        Creates a message dictionary with a role and a formatted message.\n",
        "\n",
        "        :param kwargs: The values to substitute into the prompt string\n",
        "        :return: Dictionary containing the role and the formatted message\n",
        "        \"\"\"\n",
        "        return {\"role\": self.role, \"content\": self.format_prompt(**kwargs)}\n",
        "```\n",
        "\n",
        "We'll look at how the `SystemRolePrompt` is constructed to get a better idea of how that extension works:\n",
        "\n",
        "```python\n",
        "class SystemRolePrompt(RolePrompt):\n",
        "    def __init__(self, prompt: str):\n",
        "        super().__init__(prompt, \"system\")\n",
        "```\n",
        "\n",
        "That pattern is repeated for our `UserRolePrompt` and our `AssistantRolePrompt` as well."
      ]
    },
    {
      "cell_type": "markdown",
      "metadata": {
        "id": "D361R6sMR6yw"
      },
      "source": [
        "##### ChatOpenAI"
      ]
    },
    {
      "cell_type": "markdown",
      "metadata": {
        "id": "HJVQ2Pm8R6yw"
      },
      "source": [
        "Next we have our model, which is converted to a format analagous to libraries like LangChain and LlamaIndex.\n",
        "\n",
        "Let's take a peek at how that is constructed:\n",
        "\n",
        "```python\n",
        "class ChatOpenAI:\n",
        "    def __init__(self, model_name: str = \"gpt-4.1-mini\"):\n",
        "        self.model_name = model_name\n",
        "        self.openai_api_key = os.getenv(\"OPENAI_API_KEY\")\n",
        "        if self.openai_api_key is None:\n",
        "            raise ValueError(\"OPENAI_API_KEY is not set\")\n",
        "\n",
        "    def run(self, messages, text_only: bool = True):\n",
        "        if not isinstance(messages, list):\n",
        "            raise ValueError(\"messages must be a list\")\n",
        "\n",
        "        openai.api_key = self.openai_api_key\n",
        "        response = openai.ChatCompletion.create(\n",
        "            model=self.model_name, messages=messages\n",
        "        )\n",
        "\n",
        "        if text_only:\n",
        "            return response.choices[0].message.content\n",
        "\n",
        "        return response\n",
        "```"
      ]
    },
    {
      "cell_type": "markdown",
      "metadata": {
        "id": "qCU7FfhIR6yw"
      },
      "source": [
        "#### ❓ Question #3:\n",
        "\n",
        "When calling the OpenAI API - are there any ways we can achieve more reproducible outputs?\n",
        "\n",
        "> NOTE: Check out [this section](https://platform.openai.com/docs/guides/text-generation/) of the OpenAI documentation for the answer!"
      ]
    },
    {
      "cell_type": "markdown",
      "metadata": {},
      "source": [
        "##### ✅ Answer: From the documentation above, \"Reusable Prompts\" wolud allow you to ensure consistent prompts and parameters which would help achieve more reproducible outputs. There are other parameters like seed and temperature that can enhance reproducibility as well.\n"
      ]
    },
    {
      "cell_type": "markdown",
      "metadata": {
        "id": "c5wcjMLCR6yw"
      },
      "source": [
        "### Creating and Prompting OpenAI's `gpt-4.1-mini`!\n",
        "\n",
        "Let's tie all these together and use it to prompt `gpt-4.1-mini`!"
      ]
    },
    {
      "cell_type": "code",
      "execution_count": 32,
      "metadata": {
        "id": "WIfpIot7R6yw"
      },
      "outputs": [],
      "source": [
        "from aimakerspace.openai_utils.prompts import (\n",
        "    UserRolePrompt,\n",
        "    SystemRolePrompt,\n",
        "    AssistantRolePrompt,\n",
        ")\n",
        "\n",
        "from aimakerspace.openai_utils.chatmodel import ChatOpenAI\n",
        "\n",
        "chat_openai = ChatOpenAI()\n",
        "user_prompt_template = \"{content}\"\n",
        "user_role_prompt = UserRolePrompt(user_prompt_template)\n",
        "system_prompt_template = (\n",
        "    \"You are an expert in {expertise}, you always answer in a kind way.\"\n",
        ")\n",
        "system_role_prompt = SystemRolePrompt(system_prompt_template)\n",
        "\n",
        "messages = [\n",
        "    system_role_prompt.create_message(expertise=\"Python\"),\n",
        "    user_role_prompt.create_message(\n",
        "        content=\"What is the best way to write a loop?\"\n",
        "    ),\n",
        "]\n",
        "\n",
        "response = chat_openai.run(messages)"
      ]
    },
    {
      "cell_type": "code",
      "execution_count": 33,
      "metadata": {
        "colab": {
          "base_uri": "https://localhost:8080/"
        },
        "id": "dHo7lssNR6yw",
        "outputId": "1d3823fa-bb6b-45f6-ddba-b41686388324"
      },
      "outputs": [
        {
          "name": "stdout",
          "output_type": "stream",
          "text": [
            "Hello! The best way to write a loop in Python depends on what you want to accomplish, but generally, the most common and Pythonic way is using a `for` loop when you want to iterate over a sequence (like a list, tuple, string, or range).\n",
            "\n",
            "Here's a basic example of a `for` loop in Python:\n",
            "\n",
            "```python\n",
            "for i in range(5):\n",
            "    print(i)\n",
            "```\n",
            "\n",
            "This will print numbers from 0 to 4.\n",
            "\n",
            "If you want to repeat an action while a condition is true, a `while` loop is appropriate:\n",
            "\n",
            "```python\n",
            "count = 0\n",
            "while count < 5:\n",
            "    print(count)\n",
            "    count += 1\n",
            "```\n",
            "\n",
            "In Python, using `for` loops with iterables is usually preferred because it's clearer and less error-prone.\n",
            "\n",
            "If you have a specific task in mind, I’d be happy to help you write the most effective loop for it!\n"
          ]
        }
      ],
      "source": [
        "print(response)"
      ]
    },
    {
      "cell_type": "markdown",
      "metadata": {
        "id": "r2nxxhB2R6yy"
      },
      "source": [
        "## Task 5: Retrieval Augmented Generation\n",
        "\n",
        "Now we can create a RAG prompt - which will help our system behave in a way that makes sense!\n",
        "\n",
        "There is much you could do here, many tweaks and improvements to be made!"
      ]
    },
    {
      "cell_type": "code",
      "execution_count": 34,
      "metadata": {
        "id": "D1hamzGaR6yy"
      },
      "outputs": [],
      "source": [
        "RAG_SYSTEM_TEMPLATE = \"\"\"You are a knowledgeable assistant that answers questions based strictly on provided context.\n",
        "\n",
        "Instructions:\n",
        "- Only answer questions using information from the provided context\n",
        "- If the context doesn't contain relevant information, respond with \"I don't know\"\n",
        "- Be accurate and cite specific parts of the context when possible\n",
        "- Keep responses {response_style} and {response_length}\n",
        "- Only use the provided context. Do not use external knowledge.\n",
        "- Only provide answers when you are confident the context supports your response.\"\"\"\n",
        "\n",
        "RAG_USER_TEMPLATE = \"\"\"Context Information:\n",
        "{context}\n",
        "\n",
        "Number of relevant sources found: {context_count}\n",
        "{similarity_scores}\n",
        "\n",
        "Question: {user_query}\n",
        "\n",
        "Please provide your answer based solely on the context above.\"\"\"\n",
        "\n",
        "rag_system_prompt = SystemRolePrompt(\n",
        "    RAG_SYSTEM_TEMPLATE,\n",
        "    strict=True,\n",
        "    defaults={\n",
        "        \"response_style\": \"concise\",\n",
        "        \"response_length\": \"brief\"\n",
        "    }\n",
        ")\n",
        "\n",
        "rag_user_prompt = UserRolePrompt(\n",
        "    RAG_USER_TEMPLATE,\n",
        "    strict=True,\n",
        "    defaults={\n",
        "        \"context_count\": \"\",\n",
        "        \"similarity_scores\": \"\"\n",
        "    }\n",
        ")"
      ]
    },
    {
      "cell_type": "markdown",
      "metadata": {},
      "source": [
        "Now we can create our pipeline!"
      ]
    },
    {
      "cell_type": "code",
      "execution_count": 37,
      "metadata": {},
      "outputs": [],
      "source": [
        "class RetrievalAugmentedQAPipeline:\n",
        "    def __init__(self, llm: ChatOpenAI, vector_db_retriever: VectorDatabase, \n",
        "                 response_style: str = \"detailed\", include_scores: bool = False) -> None:\n",
        "        self.llm = llm\n",
        "        self.vector_db_retriever = vector_db_retriever\n",
        "        self.response_style = response_style\n",
        "        self.include_scores = include_scores\n",
        "\n",
        "    def run_pipeline(self, user_query: str, k: int = 4, **system_kwargs) -> dict:\n",
        "        # Retrieve relevant contexts\n",
        "        context_list = self.vector_db_retriever.search_by_text(user_query, k=k)\n",
        "        \n",
        "        context_prompt = \"\"\n",
        "        similarity_scores = []\n",
        "        \n",
        "        for i, (context, score) in enumerate(context_list, 1):\n",
        "            context_prompt += f\"[Source {i}]: {context}\\n\\n\"\n",
        "            similarity_scores.append(f\"Source {i}: {score:.3f}\")\n",
        "        \n",
        "        # Create system message with parameters\n",
        "        system_params = {\n",
        "            \"response_style\": self.response_style,\n",
        "            \"response_length\": system_kwargs.get(\"response_length\", \"detailed\")\n",
        "        }\n",
        "        \n",
        "        formatted_system_prompt = rag_system_prompt.create_message(**system_params)\n",
        "        \n",
        "        user_params = {\n",
        "            \"user_query\": user_query,\n",
        "            \"context\": context_prompt.strip(),\n",
        "            \"context_count\": len(context_list),\n",
        "            \"similarity_scores\": f\"Relevance scores: {', '.join(similarity_scores)}\" if self.include_scores else \"\"\n",
        "        }\n",
        "        \n",
        "        formatted_user_prompt = rag_user_prompt.create_message(**user_params)\n",
        "\n",
        "        return {\n",
        "            \"response\": self.llm.run([formatted_system_prompt, formatted_user_prompt]), \n",
        "            \"context\": context_list,\n",
        "            \"context_count\": len(context_list),\n",
        "            \"similarity_scores\": similarity_scores if self.include_scores else None,\n",
        "            \"prompts_used\": {\n",
        "                \"system\": formatted_system_prompt,\n",
        "                \"user\": formatted_user_prompt\n",
        "            }\n",
        "        }"
      ]
    },
    {
      "cell_type": "code",
      "execution_count": 38,
      "metadata": {},
      "outputs": [
        {
          "name": "stdout",
          "output_type": "stream",
          "text": [
            "Response: The \"Michael Eisner Memorial Weak Executive Problem\" refers to a situation where a CEO hires a weak executive to run the function that the CEO themselves used to manage, often because the CEO has a hard time letting go of the function that brought them to the company. For example, a CEO who was formerly a product manager might hire a weak product management executive; a CEO formerly in sales might hire a weak sales executive; and similarly for marketing. This leads to weakened leadership in that function because the CEO retains control or influence by hiring someone less capable. The term is named after Michael Eisner, the CEO of Disney, who was a brilliant TV network executive but when he bought ABC at Disney, ABC fell to fourth place. Eisner claimed he could have turned ABC around himself if he had extra time, but he did not, illustrating the problem of trying to maintain control over a function by not hiring a strong executive for it (Source 1).\n",
            "\n",
            "Context Count: 3\n",
            "Similarity Scores: ['Source 1: 0.658', 'Source 2: 0.509', 'Source 3: 0.479']\n"
          ]
        }
      ],
      "source": [
        "rag_pipeline = RetrievalAugmentedQAPipeline(\n",
        "    vector_db_retriever=vector_db,\n",
        "    llm=chat_openai,\n",
        "    response_style=\"detailed\",\n",
        "    include_scores=True\n",
        ")\n",
        "\n",
        "result = rag_pipeline.run_pipeline(\n",
        "    \"What is the 'Michael Eisner Memorial Weak Executive Problem'?\",\n",
        "    k=3,\n",
        "    response_length=\"comprehensive\", \n",
        "    include_warnings=True,\n",
        "    confidence_required=True\n",
        ")\n",
        "\n",
        "print(f\"Response: {result['response']}\")\n",
        "print(f\"\\nContext Count: {result['context_count']}\")\n",
        "print(f\"Similarity Scores: {result['similarity_scores']}\")"
      ]
    },
    {
      "cell_type": "markdown",
      "metadata": {
        "id": "zZIJI19uR6yz"
      },
      "source": [
        "#### ❓ Question #4:\n",
        "\n",
        "What prompting strategies could you use to make the LLM have a more thoughtful, detailed response?\n",
        "\n",
        "What is that strategy called?\n",
        "\n",
        "> NOTE: You can look through our [OpenAI Responses API](https://colab.research.google.com/drive/14SCfRnp39N7aoOx8ZxadWb0hAqk4lQdL?usp=sharing) notebook for an answer to this question if you get stuck!"
      ]
    },
    {
      "cell_type": "markdown",
      "metadata": {},
      "source": [
        "##### ✅ Answer: Leverage developer (system) instructions to guide the model's behavior. A specific strategy for a more thoughtful detailed response is \"Chain-of-Thought (CoT)\" prompting. This prompt instructs the model in the prompt to \"think step by step\" or perform an action \"step by step\".\n"
      ]
    },
    {
      "cell_type": "markdown",
      "metadata": {},
      "source": [
        "### 🏗️ Activity #1:\n",
        "\n",
        "Enhance your RAG application in some way! \n",
        "\n",
        "Suggestions are: \n",
        "\n",
        "- Allow it to work with PDF files\n",
        "- Implement a new distance metric\n",
        "- Add metadata support to the vector database\n",
        "- Use a different embedding model\n",
        "- Add the capability to ingest a YouTube link\n",
        "\n",
        "While these are suggestions, you should feel free to make whatever augmentations you desire! If you shared an idea during Session 1, think about features you might need to incorporate for your use case! \n",
        "\n",
        "When you're finished making the augments to your RAG application - vibe check it against the old one - see if you can \"feel the improvement\"!\n",
        "\n",
        "> NOTE: These additions might require you to work within the `aimakerspace` library - that's expected!\n",
        "\n",
        "> NOTE: If you're not sure where to start - ask Cursor (CMD/CTRL+L) to guide you through the changes!"
      ]
    },
    {
      "cell_type": "markdown",
      "metadata": {},
      "source": [
        "## Enhanced RAG with PDF Support\n",
        "\n",
        "In this section, we'll enhance our RAG application to support PDF document ingestion alongside text files. We've added new classes to the `aimakerspace.text_utils` module:\n",
        "\n",
        "- `PDFFileLoader`: Specifically handles PDF files using PyPDF2\n",
        "- `UniversalDocumentLoader`: A unified loader that can handle both text and PDF files\n",
        "\n",
        "We will demonstrate this enhanced functionality using the `Principles_of_Management.pdf` file in the /data directory.\n"
      ]
    },
    {
      "cell_type": "code",
      "execution_count": 50,
      "metadata": {},
      "outputs": [
        {
          "data": {
            "image/jpeg": "[encoded data removed]",
            "text/plain": [
              "<IPython.core.display.Image object>"
            ]
          },
          "metadata": {},
          "output_type": "display_data"
        },
        {
          "name": "stdout",
          "output_type": "stream",
          "text": [
            "✅ Displaying: images/new_rag.jpg\n"
          ]
        }
      ],
      "source": [
        "# Display the enhanced RAG architecture diagram\n",
        "from IPython.display import Image, display\n",
        "import os\n",
        "\n",
        "# Check if image exists and display it\n",
        "image_path = \"images/new_rag.jpg\"\n",
        "if os.path.exists(image_path):\n",
        "    display(Image(filename=image_path))\n",
        "    print(f\"✅ Displaying: {image_path}\")\n",
        "else:\n",
        "    print(f\"❌ Image not found: {image_path}\")\n",
        "    print(\"Available images:\")\n",
        "    if os.path.exists(\"images\"):\n",
        "        for img in os.listdir(\"images\"):\n",
        "            print(f\"  - {img}\")\n"
      ]
    },
    {
      "cell_type": "code",
      "execution_count": 39,
      "metadata": {},
      "outputs": [
        {
          "name": "stdout",
          "output_type": "stream",
          "text": [
            "✅ All imports loaded successfully for enhanced RAG!\n"
          ]
        }
      ],
      "source": [
        "# Import all necessary classes for enhanced RAG\n",
        "from aimakerspace.text_utils import TextFileLoader, PDFFileLoader, UniversalDocumentLoader, CharacterTextSplitter\n",
        "from aimakerspace.vectordatabase import VectorDatabase\n",
        "from aimakerspace.openai_utils.chatmodel import ChatOpenAI\n",
        "from aimakerspace.openai_utils.prompts import UserRolePrompt, SystemRolePrompt\n",
        "import os\n",
        "import asyncio\n",
        "\n",
        "print(\"✅ All imports loaded successfully for enhanced RAG!\")\n"
      ]
    },
    {
      "cell_type": "code",
      "execution_count": 40,
      "metadata": {},
      "outputs": [
        {
          "name": "stdout",
          "output_type": "stream",
          "text": [
            "✅ OpenAI API key already available in environment!\n"
          ]
        }
      ],
      "source": [
        "# Set up OpenAI API key for enhanced RAG\n",
        "import openai\n",
        "from getpass import getpass\n",
        "\n",
        "# Check if API key is already set in environment\n",
        "if not os.getenv(\"OPENAI_API_KEY\"):\n",
        "    openai.api_key = getpass(\"OpenAI API Key: \")\n",
        "    os.environ[\"OPENAI_API_KEY\"] = openai.api_key\n",
        "    print(\"✅ OpenAI API key set successfully!\")\n",
        "else:\n",
        "    print(\"✅ OpenAI API key already available in environment!\")\n"
      ]
    },
    {
      "cell_type": "markdown",
      "metadata": {},
      "source": [
        "### Step 1: Import Enhanced Text Utilities\n",
        "\n",
        "Import our new PDF-capable loaders:\n"
      ]
    },
    {
      "cell_type": "code",
      "execution_count": 41,
      "metadata": {},
      "outputs": [
        {
          "name": "stdout",
          "output_type": "stream",
          "text": [
            "PDF file exists: True\n",
            "PDF file size: 47.85 MB\n"
          ]
        }
      ],
      "source": [
        "from aimakerspace.text_utils import PDFFileLoader, UniversalDocumentLoader\n",
        "import os\n",
        "\n",
        "# Check if our PDF file exists\n",
        "pdf_path = \"data/Principles_of_Management.pdf\"\n",
        "print(f\"PDF file exists: {os.path.exists(pdf_path)}\")\n",
        "print(f\"PDF file size: {os.path.getsize(pdf_path) / 1024 / 1024:.2f} MB\" if os.path.exists(pdf_path) else \"File not found\")\n"
      ]
    },
    {
      "cell_type": "markdown",
      "metadata": {},
      "source": [
        "### Step 2: Load PDF Document\n",
        "\n",
        "Extract text from the PDF using our new PDFFileLoader:\n"
      ]
    },
    {
      "cell_type": "code",
      "execution_count": 42,
      "metadata": {},
      "outputs": [
        {
          "name": "stdout",
          "output_type": "stream",
          "text": [
            "Number of PDF documents loaded: 1\n",
            "Length of PDF text: 1936336 characters\n",
            "First 500 characters of PDF:\n",
            "--------------------------------------------------\n",
            "Princip les of \n",
            "Management  \n",
            "\n",
            "OpenStax  \n",
            "Rice University  \n",
            "6100 Main Street MS -375 \n",
            "Houston, Texas 77005  \n",
            "To learn more about OpenStax, visit http s://openstax.org.  \n",
            "Individual print copies and bulk orders can be purchased through our website.  \n",
            "©2019 Rice University.  Textbook content produced by OpenStax is licensed under a Creative Commons \n",
            "Attribution 4.0 International License  (CC BY 4.0) . Under this license, any user of this textb ook or the textbook \n",
            "contents herein must provide prope\n"
          ]
        }
      ],
      "source": [
        "# Load the PDF document\n",
        "pdf_loader = PDFFileLoader(pdf_path)\n",
        "pdf_documents = pdf_loader.load_documents()\n",
        "\n",
        "print(f\"Number of PDF documents loaded: {len(pdf_documents)}\")\n",
        "print(f\"Length of PDF text: {len(pdf_documents[0])} characters\")\n",
        "print(f\"First 500 characters of PDF:\")\n",
        "print(\"-\" * 50)\n",
        "print(pdf_documents[0][:500])\n"
      ]
    },
    {
      "cell_type": "markdown",
      "metadata": {},
      "source": [
        "### Step 3: Create Combined Corpus\n",
        "\n",
        "Combine both the original blog text and the PDF content using our UniversalDocumentLoader:\n"
      ]
    },
    {
      "cell_type": "code",
      "execution_count": 43,
      "metadata": {},
      "outputs": [
        {
          "name": "stdout",
          "output_type": "stream",
          "text": [
            "Total documents loaded: 2\n",
            "Document types:\n",
            "  Document 1: Management PDF (1,936,336 characters)\n",
            "  Document 2: Blog Archive (297,904 characters)\n"
          ]
        }
      ],
      "source": [
        "# Load all documents from the data directory (both text and PDF)\n",
        "universal_loader = UniversalDocumentLoader(\"data\")\n",
        "all_documents = universal_loader.load_documents()\n",
        "\n",
        "print(f\"Total documents loaded: {len(all_documents)}\")\n",
        "print(f\"Document types:\")\n",
        "for i, doc in enumerate(all_documents):\n",
        "    doc_length = len(doc)\n",
        "    # Heuristic to identify document type based on content\n",
        "    if \"Pmarca Blog\" in doc[:200]:\n",
        "        doc_type = \"Blog Archive\"\n",
        "    elif any(word in doc[:500].lower() for word in [\"management\", \"principle\", \"organization\"]):\n",
        "        doc_type = \"Management PDF\"\n",
        "    else:\n",
        "        doc_type = \"Unknown\"\n",
        "    print(f\"  Document {i+1}: {doc_type} ({doc_length:,} characters)\")\n"
      ]
    },
    {
      "cell_type": "markdown",
      "metadata": {},
      "source": [
        "### Step 4: Split Combined Documents\n",
        "\n",
        "Split all documents into chunks for our enhanced vector database:\n"
      ]
    },
    {
      "cell_type": "code",
      "execution_count": 44,
      "metadata": {},
      "outputs": [
        {
          "name": "stdout",
          "output_type": "stream",
          "text": [
            "Number of chunks from enhanced corpus: 2794\n",
            "Original corpus had: 373 chunks\n",
            "Enhancement added: 2421 additional chunks\n",
            "\n",
            "Sample PDF chunk:\n",
            "--------------------------------------------------\n",
            "Princip les of \n",
            "Management  \n",
            "\n",
            "OpenStax  \n",
            "Rice University  \n",
            "6100 Main Street MS -375 \n",
            "Houston, Texas 77005  \n",
            "To learn more about OpenStax, visit http s://openstax.org.  \n",
            "Individual print copies and bulk orders can be purchased through our website.  \n",
            "©2019 Rice University.  Textbook content produced b...\n"
          ]
        }
      ],
      "source": [
        "# First, let's recreate the original split_documents for comparison\n",
        "# Load only the original blog text\n",
        "original_text_loader = TextFileLoader(\"data/PMarcaBlogs.txt\")\n",
        "original_documents = original_text_loader.load_documents()\n",
        "original_text_splitter = CharacterTextSplitter()\n",
        "split_documents = original_text_splitter.split_texts(original_documents)\n",
        "\n",
        "# Now split the combined documents into chunks\n",
        "enhanced_text_splitter = CharacterTextSplitter(chunk_size=1000, chunk_overlap=200)\n",
        "enhanced_split_documents = enhanced_text_splitter.split_texts(all_documents)\n",
        "\n",
        "print(f\"Number of chunks from enhanced corpus: {len(enhanced_split_documents)}\")\n",
        "print(f\"Original corpus had: {len(split_documents)} chunks\")\n",
        "print(f\"Enhancement added: {len(enhanced_split_documents) - len(split_documents)} additional chunks\")\n",
        "\n",
        "# Show a sample chunk from the PDF content\n",
        "pdf_chunks = [chunk for chunk in enhanced_split_documents if any(word in chunk.lower() for word in [\"management\", \"principle\", \"organization\", \"planning\"])]\n",
        "if pdf_chunks:\n",
        "    print(f\"\\nSample PDF chunk:\")\n",
        "    print(\"-\" * 50)\n",
        "    print(pdf_chunks[0][:300] + \"...\")\n"
      ]
    },
    {
      "cell_type": "markdown",
      "metadata": {},
      "source": [
        "### Step 5: Build Enhanced Vector Database\n",
        "\n",
        "Let's create a new vector database with our enhanced corpus including PDF content:\n"
      ]
    },
    {
      "cell_type": "code",
      "execution_count": 45,
      "metadata": {},
      "outputs": [
        {
          "name": "stdout",
          "output_type": "stream",
          "text": [
            "Building enhanced vector database with PDF content...\n",
            "Enhanced vector database built with 2794 vectors\n",
            "\n",
            "Semantic search results for management question:\n",
            "\n",
            "Result 1 (similarity: 0.568):\n",
            " successful managers at a variety of organizational levels to achieve and exceed\n",
            "objectives effectively and efficiently throughout their careers? Management is a broad business discipline, and\n",
            "the Pri...\n",
            "\n",
            "Result 2 (similarity: 0.561):\n",
            "on must decide issues fairly and equitably. In this way, managers could limit the\n",
            "ways in which their biases and personal feelings could influence their decisions.\n",
            "Taken as a whole, Fayol's ideas beca...\n",
            "\n",
            "Result 3 (similarity: 0.538):\n",
            "ion\n",
            "6. Subordination of Individual Interest\n",
            "7. Remuneration\n",
            "8. Centralization\n",
            "9. Scalar Chain\n",
            "10. Order\n",
            "11. Equity\n",
            "12. Stability of Tenure of Personnel\n",
            "13. Initiative—Employees should be given the nec...\n"
          ]
        }
      ],
      "source": [
        "# Create enhanced vector database with combined content\n",
        "print(\"Building enhanced vector database with PDF content...\")\n",
        "enhanced_vector_db = VectorDatabase()\n",
        "enhanced_vector_db = await enhanced_vector_db.abuild_from_list(enhanced_split_documents)\n",
        "\n",
        "print(f\"Enhanced vector database built with {len(enhanced_vector_db.vectors)} vectors\")\n",
        "\n",
        "# Test semantic search on management topics\n",
        "management_results = enhanced_vector_db.search_by_text(\"What are the key principles of effective management?\", k=3)\n",
        "print(f\"\\nSemantic search results for management question:\")\n",
        "for i, (text, score) in enumerate(management_results, 1):\n",
        "    print(f\"\\nResult {i} (similarity: {score:.3f}):\")\n",
        "    print(f\"{text[:200]}...\")\n"
      ]
    },
    {
      "cell_type": "markdown",
      "metadata": {},
      "source": [
        "### Step 6: Enhanced RAG Pipeline\n",
        "\n",
        "Let's create an enhanced RAG pipeline that can answer questions from both the blog content and the management PDF:\n"
      ]
    },
    {
      "cell_type": "code",
      "execution_count": 46,
      "metadata": {},
      "outputs": [
        {
          "name": "stdout",
          "output_type": "stream",
          "text": [
            "Enhanced RAG Pipeline created successfully!\n",
            "Database contains 2794 text chunks from multiple sources\n"
          ]
        }
      ],
      "source": [
        "# Create enhanced RAG pipeline\n",
        "enhanced_rag_pipeline = RetrievalAugmentedQAPipeline(\n",
        "    vector_db_retriever=enhanced_vector_db,\n",
        "    llm=chat_openai,\n",
        "    response_style=\"detailed\",\n",
        "    include_scores=True\n",
        ")\n",
        "\n",
        "print(\"Enhanced RAG Pipeline created successfully!\")\n",
        "print(f\"Database contains {len(enhanced_vector_db.vectors)} text chunks from multiple sources\")\n"
      ]
    },
    {
      "cell_type": "markdown",
      "metadata": {},
      "source": [
        "### Step 7: Test Enhanced RAG with Management Questions\n",
        "\n",
        "Let's test our enhanced RAG system with questions about management principles:\n"
      ]
    },
    {
      "cell_type": "code",
      "execution_count": 47,
      "metadata": {},
      "outputs": [
        {
          "name": "stdout",
          "output_type": "stream",
          "text": [
            "Question: What are the key functions of management and how do they relate to organizational success?\n",
            "\n",
            "Response: Based on the provided context, the key functions of management that relate to organizational success include:\n",
            "\n",
            "1. **Communication with Direct Reports**: One of the most important functions managers perform is communicating with their direct reports. This communication helps the organization achieve and exceed its goals (Source 1). Effective communication ensures alignment of objectives and facilitates coordination among employees.\n",
            "\n",
            "2. **Managing Learning and Knowledge Processes**: Organizations must develop the ability to manage learning and knowledge processes to be successful. This involves systems to collect data, analyze it into information, and use that information to gain knowledge and insight. Organizational learning is the acquisition of knowledge through this cycle, which is critical for adapting and innovating (Source 4).\n",
            "\n",
            "3. **Leadership and Creative Thinking**: Individual skills, such as leadership/followership and creative thinking, are critical for organizational success. These skills help in managing people and resources to create value and build capabilities that lead to competitive advantage (Source 4).\n",
            "\n",
            "4. **Fostering Initiative and Creativity**: Management fosters initiative and creativity by allowing individuals freedom of action in attaining well-defined objectives. This approach encourages job satisfaction and accomplishment among employees (Source 2).\n",
            "\n",
            "5. **Breaking Broad Organizational Goals into Subgoals**: Broad goals like productivity, innovation, and profitability are broken down into subgoals at various organizational levels. This structuring helps manage complex interrelated systems of goals and plans effectively (Source 2).\n",
            "\n",
            "In summary, management functions such as effective communication, fostering learning and knowledge, providing leadership and creative freedom, and organizing goals at multiple levels are essential for helping organizations achieve top performance and success. These functions collectively enable the organization to meet its objectives, innovate, and maintain a competitive edge.\n",
            "\n",
            "Context Count: 4\n",
            "Similarity Scores: ['Source 1: 0.558', 'Source 2: 0.540', 'Source 3: 0.539', 'Source 4: 0.536']\n",
            "\n",
            "Source contexts used:\n",
            "\n",
            "Source 1 (score: 0.558):\n",
            "ividuals at the highest level of management of an organization.\n",
            "The level of management directly managing nonmanagerial employees.\n",
            "One of the three ma...\n",
            "Likely source: Management PDF\n",
            "\n",
            "Source 2 (score: 0.540):\n",
            "ss, which they make possible: to provide job\n",
            "security based on their performance, to recognize their individual achievements, and to help them gain a\n",
            "...\n",
            "Likely source: Management PDF\n",
            "\n",
            "Source 3 (score: 0.539):\n",
            "uld be able to answer these questions:\n",
            "What do managers do to help organizations achieve top performance?\n",
            "What are the roles that managers play in org...\n",
            "Likely source: Management PDF\n",
            "\n",
            "Source 4 (score: 0.536):\n",
            "ly manage technology and innovation in the organization. No\n",
            "matter what organization you are a part of, there are two skills the organization must dev...\n",
            "Likely source: Management PDF\n"
          ]
        }
      ],
      "source": [
        "# Test with management-related questions\n",
        "management_question = \"What are the key functions of management and how do they relate to organizational success?\"\n",
        "\n",
        "result = enhanced_rag_pipeline.run_pipeline(\n",
        "    management_question,\n",
        "    k=4,\n",
        "    response_length=\"comprehensive\"\n",
        ")\n",
        "\n",
        "print(f\"Question: {management_question}\")\n",
        "print(f\"\\nResponse: {result['response']}\")\n",
        "print(f\"\\nContext Count: {result['context_count']}\")\n",
        "print(f\"Similarity Scores: {result['similarity_scores']}\")\n",
        "\n",
        "print(f\"\\nSource contexts used:\")\n",
        "for i, (context, score) in enumerate(result['context'], 1):\n",
        "    print(f\"\\nSource {i} (score: {score:.3f}):\")\n",
        "    print(f\"{context[:150]}...\")\n",
        "    # Try to identify if this is from blog or PDF\n",
        "    source_type = \"Management PDF\" if any(word in context.lower() for word in [\"management\", \"principle\", \"planning\", \"organization\"]) else \"Blog Archive\"\n",
        "    print(f\"Likely source: {source_type}\")\n"
      ]
    },
    {
      "cell_type": "markdown",
      "metadata": {},
      "source": [
        "### Step 8: Compare Original vs Enhanced RAG\n",
        "\n",
        "Let's compare how the original RAG (blog-only) performs versus our enhanced RAG (blog + PDF) on the same question:\n"
      ]
    },
    {
      "cell_type": "code",
      "execution_count": 48,
      "metadata": {},
      "outputs": [
        {
          "name": "stdout",
          "output_type": "stream",
          "text": [
            "================================================================================\n",
            "COMPARISON: Original RAG vs Enhanced RAG\n",
            "================================================================================\n",
            "\n",
            "📚 ORIGINAL RAG (Blog content only):\n",
            "Response: Effective leadership strategies based on the provided context include:\n",
            "\n",
            "1. **Promoting Top Talent Quickly and Clearly**: Identify your top 20 or 30 up-and-coming managers who are strong, sharp, aggressive, and ambitious, and promote them rapidly to director- or VP-level roles. Give them sole charge of clearly identified teams and missions along with substantial option packages. This reduces unnecessary layers of management, ensuring that as CEO, you have at most one executive between you and these key players. Failure to do this or having multiple layers in between is likely to lead to failure (Source 1).\n",
            "\n",
            "2. **Establish Clear Accountability for Critical Objectives**: Determine the single most important thing your company needs to win at and appoint your best person to lead that effort, focusing the organization's energy on critical missions (Source 1).\n",
            "\n",
            "3. **Slyly Gather Data Across All Levels**: Leaders should ask questions frequently and at all levels of the organization, not just rely on information from executives running functions. This helps prevent surprises and ensures a comprehensive understanding of the organization's status. Good executives support a CEO talking directly to their team members; if an executive resists this, it signals poor leadership (Source 2).\n",
            "\n",
            "4. **Re-Recruit Former Top Employees**: Sometimes, re-hiring your best former people can bring significant value, especially if they’ve found other environments less satisfying. Offering them strong packages against a new mission can help regain their talent (Source 3).\n",
            "\n",
            "5. **Ramp Up College Recruiting**: Bringing in new, energetic, and hungry talent through college recruiting is critical for maintaining the company's vitality and long-term success (Source 3).\n",
            "\n",
            "6. **Communicate Clearly and Unambiguously**: Leaders must clearly communicate the company's mission and winning strategy to all employees, emphasizing that it won't be easy but is achievable. This helps align and motivate the entire organization (Source 3).\n",
            "\n",
            "In summary, effective leadership involves rapid promotion of top talent, clear focus on crucial objectives, open and broad information gathering, strategic talent management including re-hiring and college recruiting, and transparent, motivating communication throughout the organization.\n",
            "\n",
            "📖 ENHANCED RAG (Blog + PDF content):\n",
            "Response: Effective leadership strategies, based on the provided context, focus on what leaders do and how they influence their teams to achieve goals. According to Source 1, CEOs and management consultants agree that effective leaders:\n",
            "\n",
            "- Display trust in their employees\n",
            "- Develop a clear vision\n",
            "- Maintain composure (\"keep their cool\")\n",
            "- Encourage risk-taking\n",
            "- Bring expertise into the work setting\n",
            "- Invite dissent or differing opinions\n",
            "- Focus everyone's attention on what is important\n",
            "\n",
            "Additionally, Source 3 highlights that effective leadership involves developing and communicating a vision, orchestrating group energy and activity toward goal attainment, turning individuals into a team, and transforming intentions into positive actions. It emphasizes leadership as a social influence relationship that balances the group's maintenance needs (such as shared norms and ensuring individuals fit and work well together) and task needs (making progress toward the group's goals).\n",
            "\n",
            "Source 2 suggests that effective leaders are those who continually get high performance from their employees while making the work experience enjoyable. It notes that effective leadership skills are developed through investment in time and energy rather than innate or quick-fix techniques.\n",
            "\n",
            "In summary, effective leadership strategies include building trust, clear vision-setting and communication, managing group dynamics skillfully, encouraging innovation and open dialogue, focusing attention on priorities, and balancing interpersonal and task-related needs to foster both team cohesion and goal achievement.\n",
            "\n",
            "🔍 ANALYSIS:\n",
            "Original sources found: 3\n",
            "Enhanced sources found: 3\n",
            "Enhanced response length: 1591 vs Original: 2309 characters\n"
          ]
        }
      ],
      "source": [
        "# Test the same question with original RAG (blog-only)\n",
        "test_question = \"What are effective leadership strategies?\"\n",
        "\n",
        "print(\"=\" * 80)\n",
        "print(\"COMPARISON: Original RAG vs Enhanced RAG\")\n",
        "print(\"=\" * 80)\n",
        "\n",
        "print(\"\\n📚 ORIGINAL RAG (Blog content only):\")\n",
        "original_result = rag_pipeline.run_pipeline(test_question, k=3)\n",
        "print(f\"Response: {original_result['response']}\")\n",
        "\n",
        "print(f\"\\n📖 ENHANCED RAG (Blog + PDF content):\")\n",
        "enhanced_result = enhanced_rag_pipeline.run_pipeline(test_question, k=3)\n",
        "print(f\"Response: {enhanced_result['response']}\")\n",
        "\n",
        "print(f\"\\n🔍 ANALYSIS:\")\n",
        "print(f\"Original sources found: {original_result['context_count']}\")\n",
        "print(f\"Enhanced sources found: {enhanced_result['context_count']}\")\n",
        "print(f\"Enhanced response length: {len(enhanced_result['response'])} vs Original: {len(original_result['response'])} characters\")\n"
      ]
    },
    {
      "cell_type": "markdown",
      "metadata": {},
      "source": [
        "### Step 9: Test Cross-Domain Questions\n",
        "\n",
        "Let's test questions that might benefit from having both business blog insights and formal management theory:\n"
      ]
    },
    {
      "cell_type": "code",
      "execution_count": 49,
      "metadata": {},
      "outputs": [
        {
          "name": "stdout",
          "output_type": "stream",
          "text": [
            "\n",
            "============================================================\n",
            "CROSS-DOMAIN QUESTION 1: How do startup principles relate to traditional management theory?\n",
            "============================================================\n",
            "\n",
            "Response: Based on the provided context, the relationship between startup principles and traditional management theory can be understood through the distinction in leadership and team dynamics typical of startups versus established firms.\n",
            "\n",
            "From Source 1 and Source 4, it is clear that startups have highly variable outcomes in terms of success, largely influenced by the quality and interplay of three core elements: team, product, and market. Startups often form their initial teams from trusted relationships such as family, friends, or former colleagues, which poses unique challenges in managing team dynamics effectively — specifically managing relationships, roles, and rewards (Source 4). This emphasis on early team composition and relational dynamics highlights a fundamental principle in startups that may differ from traditional management, which often deals with more stable, formalized organizational structures.\n",
            "\n",
            "Source 2 elaborates on the distinction between leadership and management by stating “You don’t manage people, you manage things. You lead people.” This philosophy aligns well with the startup context where informal leaders have significant influence, and leadership focusses more on inspiring and guiding people than on hierarchical control or managing routine operations typical in established firms. Therefore, startup leadership requires qualities distinct from managing established firms, emphasizing vision, motivation, and adaptability rather than just control and process adherence.\n",
            "\n",
            "Source 3 also contextualizes startup principles by underscoring the unique culture of Silicon Valley startups, which includes a focus on control of destiny and innovation — aspects less emphasized in traditional management theory that focuses on stability, efficiency, and incremental improvement.\n",
            "\n",
            "In summary, startup principles relate to traditional management theory by emphasizing:\n",
            "- Leadership over management, focusing on leading people rather than controlling them (Source 2),\n",
            "- Managing volatile team dynamics based on relationships, roles, and rewards instead of formal hierarchy (Source 4),\n",
            "- Navigating wide variability in team, product, and market quality that defines success or failure (Source 1),\n",
            "- Emphasizing innovation, control of destiny, and cultural aspects distinctive from established firm management (Source 3).\n",
            "\n",
            "These points suggest that startup principles challenge traditional management theory by prioritizing flexible leadership, relational dynamics, and adaptive culture over rigid management structures and processes.\n",
            "\n",
            "Source Analysis:\n",
            "  • Blog sources: 3\n",
            "  • PDF sources: 1\n",
            "  • Source diversity: High\n",
            "\n",
            "============================================================\n",
            "CROSS-DOMAIN QUESTION 2: What are the differences between entrepreneurial leadership and corporate management?\n",
            "============================================================\n",
            "\n",
            "Response: Based on the provided context, the differences between entrepreneurial leadership and corporate management can be understood through their roles, focus, and the environments they operate in:\n",
            "\n",
            "1. **Focus on People vs. Things**:  \n",
            "   Source 1 makes a distinction saying, “You don’t manage people, you manage things. You lead people.” This suggests entrepreneurial leadership emphasizes leading people — inspiring, influencing, and motivating them — whereas corporate management traditionally involves managing systems, processes, and organizational structures.\n",
            "\n",
            "2. **Scope and Latitude of Decision-Making**:  \n",
            "   Source 3 notes that executives (often entrepreneurial leaders in startups) have a higher degree of latitude in making decisions and organizing within their function than managers typically do in corporate settings. Entrepreneurs must build their organizations from scratch and make strategic decisions in less structured environments, compared to managers who often work within established structures.\n",
            "\n",
            "3. **Role and Tasks in Startups vs. Established Firms**:  \n",
            "   From Source 3, startup executives must simultaneously build their organization and make pivotal decisions that influence the company’s success or failure. This contrasts with many corporate managers who may focus on maintaining and optimizing existing operations. Entrepreneurial leaders often must innovate and adapt rapidly to a dynamic environment.\n",
            "\n",
            "4. **Leadership versus Management Processes**:  \n",
            "   Source 2 differentiates management as a process involving planning, organizing, directing, and controlling, while leadership is characterized as a social interpersonal influence aimed at goal attainment. This distinction aligns with entrepreneurial leadership focusing on vision and influence, whereas corporate management emphasizes formal processes and control mechanisms.\n",
            "\n",
            "5. **Vision and Influence**:  \n",
            "   According to Source 2, many CEOs (which can include entrepreneurs) are hired for their leadership skills, especially their ability to formulate a vision and get others to “buy into” it to propel the organization forward. This visionary aspect of entrepreneurial leadership is less emphasized in routine corporate management roles which often concentrate on goal setting, strategy implementation, and problem-solving within known parameters.\n",
            "\n",
            "6. **Motivation and Commitment**:  \n",
            "   Although Source 4 focuses on entrepreneurs’ personal characteristics, it indirectly informs the leadership style: successful entrepreneurs are ambitious, energetic, passionate, and committed individuals driven by profit, independence, and personal satisfaction. These intrinsic motivators often translate into entrepreneurial leadership styles that differ from corporate managers who may be more constrained by organizational policies and goals.\n",
            "\n",
            "In summary, entrepreneurial leadership is more visionary, people-centered, adaptive, and oriented toward building and shaping new organizations in uncertain environments. Corporate management tends to focus more on controlling processes, implementing strategies, and maintaining stability within established organizational frameworks. The entrepreneurial leader’s broader decision-making latitude and need to create from the ground up contrast with the manager’s role of optimizing and controlling existing operations.\n",
            "\n",
            "Source Analysis:\n",
            "  • Blog sources: 1\n",
            "  • PDF sources: 3\n",
            "  • Source diversity: High\n",
            "\n",
            "============================================================\n",
            "CROSS-DOMAIN QUESTION 3: How can traditional management principles be applied in tech startups?\n",
            "============================================================\n",
            "\n",
            "Response: The provided context does not explicitly discuss how traditional management principles can be applied in tech startups. However, it does highlight important elements related to startup team building and management that can be viewed as aligning with traditional management principles.\n",
            "\n",
            "For example, Source 1 and Source 3 emphasize the importance of managing three key elements effectively to avoid long-term problems: relationships, roles, and rewards. Relationships involve careful selection of team members, avoiding the long-term hazards of hiring only relatives or close friends despite initial trust. Roles require clear definition of labor division and decision-making authority based on skills and function, which is a conventional management practice to establish accountability and effective workflow. Rewards focus on structuring compensation (short-term and long-term), reflecting a traditional approach of motivating and retaining key personnel.\n",
            "\n",
            "Additionally, Source 4 points to the critical importance of the quality of the startup team (as well as product and market) in determining success, aligning with traditional management understandings that team quality and structure strongly impact organizational outcomes.\n",
            "\n",
            "In summary, traditional management principles such as careful team composition, clear role definitions, and thoughtful reward systems are relevant and can be integrated into tech startups' management, especially in their formative stages, to maximize chances of success and avoid common pitfalls related to team issues. This reflects an approach where foundational management concepts adapt to the startup context by focusing on relationships, roles, and rewards within the startup team.\n",
            "\n",
            "Source Analysis:\n",
            "  • Blog sources: 3\n",
            "  • PDF sources: 1\n",
            "  • Source diversity: High\n"
          ]
        }
      ],
      "source": [
        "# Test questions that benefit from both sources\n",
        "cross_domain_questions = [\n",
        "    \"How do startup principles relate to traditional management theory?\",\n",
        "    \"What are the differences between entrepreneurial leadership and corporate management?\",\n",
        "    \"How can traditional management principles be applied in tech startups?\"\n",
        "]\n",
        "\n",
        "for i, question in enumerate(cross_domain_questions, 1):\n",
        "    print(f\"\\n{'='*60}\")\n",
        "    print(f\"CROSS-DOMAIN QUESTION {i}: {question}\")\n",
        "    print('='*60)\n",
        "    \n",
        "    result = enhanced_rag_pipeline.run_pipeline(question, k=4)\n",
        "    print(f\"\\nResponse: {result['response']}\")\n",
        "    \n",
        "    # Analyze source diversity\n",
        "    blog_sources = sum(1 for context, _ in result['context'] if not any(word in context.lower() for word in [\"management\", \"principle\", \"planning\", \"organization\"]))\n",
        "    pdf_sources = result['context_count'] - blog_sources\n",
        "    \n",
        "    print(f\"\\nSource Analysis:\")\n",
        "    print(f\"  • Blog sources: {blog_sources}\")\n",
        "    print(f\"  • PDF sources: {pdf_sources}\")\n",
        "    print(f\"  • Source diversity: {'High' if blog_sources > 0 and pdf_sources > 0 else 'Low'}\")\n"
      ]
    },
    {
      "cell_type": "markdown",
      "metadata": {},
      "source": [
        "### Summary: Enhanced RAG Capabilities\n",
        "\n",
        "1. **Enhanced Text Processing**: \n",
        "   - Added `PDFFileLoader` class for PDF text extraction using PyPDF2\n",
        "   - Created `UniversalDocumentLoader` for unified handling of text and PDF files\n",
        "\n",
        "2. **Expanded Knowledge Base**:\n",
        "   - Combined blog content with formal management theory from PDF\n",
        "   - Increased corpus diversity and domain coverage\n",
        "\n",
        "3. **Improved RAG Performance**:\n",
        "   - Enhanced semantic search across multiple document types\n",
        "   - Better context retrieval for cross-domain questions\n",
        "   - More comprehensive and informed responses\n",
        "\n",
        "#### Key Features Added:\n",
        "- ✅ PDF text extraction and processing\n",
        "- ✅ Multi-format document loading\n",
        "- ✅ Enhanced vector database with diverse content\n",
        "- ✅ Cross-domain question answering\n",
        "- ✅ Source analysis and diversity tracking\n",
        "\n",
        "#### Next Steps for Further Enhancement:\n",
        "- Add metadata support to track document sources\n",
        "- Implement different chunking strategies for different document types  \n",
        "- Add support for other formats (Word, HTML, etc.)\n",
        "- Implement source attribution in responses\n",
        "- Add document preprocessing and cleaning pipelines\n"
      ]
    }
  ],
  "metadata": {
    "colab": {
      "provenance": []
    },
    "kernelspec": {
      "display_name": ".venv",
      "language": "python",
      "name": "python3"
    },
    "language_info": {
      "codemirror_mode": {
        "name": "ipython",
        "version": 3
      },
      "file_extension": ".py",
      "mimetype": "text/x-python",
      "name": "python",
      "nbconvert_exporter": "python",
      "pygments_lexer": "ipython3",
      "version": "3.13.7"
    },
    "orig_nbformat": 4
  },
  "nbformat": 4,
  "nbformat_minor": 0
}
